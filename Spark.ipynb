{
  "nbformat": 4,
  "nbformat_minor": 0,
  "metadata": {
    "colab": {
      "provenance": []
    },
    "kernelspec": {
      "name": "python3",
      "display_name": "Python 3"
    },
    "language_info": {
      "name": "python"
    }
  },
  "cells": [
    {
      "cell_type": "code",
      "source": [
        "from google.colab import drive\n",
        "drive.mount('/content/drive')"
      ],
      "metadata": {
        "colab": {
          "base_uri": "https://localhost:8080/"
        },
        "id": "mxzrdq58Quvw",
        "outputId": "4aa2433f-172a-4654-acc7-1ba9586d3a96"
      },
      "execution_count": null,
      "outputs": [
        {
          "output_type": "stream",
          "name": "stdout",
          "text": [
            "Mounted at /content/drive\n"
          ]
        }
      ]
    },
    {
      "cell_type": "code",
      "execution_count": null,
      "metadata": {
        "colab": {
          "base_uri": "https://localhost:8080/"
        },
        "id": "shaXIe12zHn4",
        "outputId": "376576e2-678c-4956-8e9a-8946f3310580"
      },
      "outputs": [
        {
          "output_type": "stream",
          "name": "stdout",
          "text": [
            "Collecting pyspark\n",
            "  Downloading pyspark-3.5.0.tar.gz (316.9 MB)\n",
            "\u001b[2K     \u001b[90m━━━━━━━━━━━━━━━━━━━━━━━━━━━━━━━━━━━━━━━━\u001b[0m \u001b[32m316.9/316.9 MB\u001b[0m \u001b[31m4.5 MB/s\u001b[0m eta \u001b[36m0:00:00\u001b[0m\n",
            "\u001b[?25h  Preparing metadata (setup.py) ... \u001b[?25l\u001b[?25hdone\n",
            "Requirement already satisfied: py4j==0.10.9.7 in /usr/local/lib/python3.10/dist-packages (from pyspark) (0.10.9.7)\n",
            "Building wheels for collected packages: pyspark\n",
            "  Building wheel for pyspark (setup.py) ... \u001b[?25l\u001b[?25hdone\n",
            "  Created wheel for pyspark: filename=pyspark-3.5.0-py2.py3-none-any.whl size=317425344 sha256=2221ba97a79d594ec43bbe806ef9f4e22f1230fed57f97ff035bd54ace67030f\n",
            "  Stored in directory: /root/.cache/pip/wheels/41/4e/10/c2cf2467f71c678cfc8a6b9ac9241e5e44a01940da8fbb17fc\n",
            "Successfully built pyspark\n",
            "Installing collected packages: pyspark\n",
            "Successfully installed pyspark-3.5.0\n"
          ]
        }
      ],
      "source": [
        "!pip install pyspark"
      ]
    },
    {
      "cell_type": "code",
      "source": [
        "import pyspark\n",
        "from pyspark.sql import SparkSession\n",
        "from pyspark.ml.feature import VectorAssembler, OneHotEncoder, StringIndexer"
      ],
      "metadata": {
        "id": "KwNIL2oY_DT9"
      },
      "execution_count": null,
      "outputs": []
    },
    {
      "cell_type": "code",
      "source": [
        "spark = SparkSession.builder.appName('training').getOrCreate()"
      ],
      "metadata": {
        "id": "RumC9r94_T_N"
      },
      "execution_count": null,
      "outputs": []
    },
    {
      "cell_type": "code",
      "source": [
        "spark"
      ],
      "metadata": {
        "colab": {
          "base_uri": "https://localhost:8080/",
          "height": 219
        },
        "id": "92mBT_cI_2Au",
        "outputId": "06b1ba09-5191-4ceb-bd7d-afeaac240279"
      },
      "execution_count": null,
      "outputs": [
        {
          "output_type": "execute_result",
          "data": {
            "text/plain": [
              "<pyspark.sql.session.SparkSession at 0x7a04c2884e50>"
            ],
            "text/html": [
              "\n",
              "            <div>\n",
              "                <p><b>SparkSession - in-memory</b></p>\n",
              "                \n",
              "        <div>\n",
              "            <p><b>SparkContext</b></p>\n",
              "\n",
              "            <p><a href=\"http://9d8a0bf82bdc:4040\">Spark UI</a></p>\n",
              "\n",
              "            <dl>\n",
              "              <dt>Version</dt>\n",
              "                <dd><code>v3.5.0</code></dd>\n",
              "              <dt>Master</dt>\n",
              "                <dd><code>local[*]</code></dd>\n",
              "              <dt>AppName</dt>\n",
              "                <dd><code>training</code></dd>\n",
              "            </dl>\n",
              "        </div>\n",
              "        \n",
              "            </div>\n",
              "        "
            ]
          },
          "metadata": {},
          "execution_count": 5
        }
      ]
    },
    {
      "cell_type": "code",
      "source": [
        "agri_df = spark.read.csv(\"/content/drive/MyDrive/Data/agriculture.csv\", header= True, inferSchema= True)"
      ],
      "metadata": {
        "id": "v1jz_ing_4oi"
      },
      "execution_count": null,
      "outputs": []
    },
    {
      "cell_type": "code",
      "source": [
        "prop_df = spark.read.option('header', 'true').csv(\"/content/drive/MyDrive/Data/Balanced_Property_data.csv\", inferSchema= True)"
      ],
      "metadata": {
        "id": "C6jcgF2WA4f-"
      },
      "execution_count": null,
      "outputs": []
    },
    {
      "cell_type": "code",
      "source": [
        "prop_df.printSchema()"
      ],
      "metadata": {
        "colab": {
          "base_uri": "https://localhost:8080/"
        },
        "id": "dBJLhkLADxfe",
        "outputId": "78749796-88f7-4aa2-9eec-c33c7cdc5626"
      },
      "execution_count": null,
      "outputs": [
        {
          "output_type": "stream",
          "name": "stdout",
          "text": [
            "root\n",
            " |-- VisitorID: integer (nullable = true)\n",
            " |-- Proj_Group: string (nullable = true)\n",
            " |-- Proj_Segment: string (nullable = true)\n",
            " |-- Proj_Type: string (nullable = true)\n",
            " |-- Visitor_Group: string (nullable = true)\n",
            " |-- Visitor_Gender: string (nullable = true)\n",
            " |-- Question_Age: string (nullable = true)\n",
            " |-- Question_Budget: double (nullable = true)\n",
            " |-- Question_HHIncome: double (nullable = true)\n",
            " |-- Question_InstallmentMonthly: double (nullable = true)\n",
            " |-- Question_MarriageStatus: string (nullable = true)\n",
            " |-- Question_Nationality: string (nullable = true)\n",
            " |-- Question_Occupation: string (nullable = true)\n",
            " |-- Question_P_Income: double (nullable = true)\n",
            " |-- Question_TimeToMoveIn: string (nullable = true)\n",
            " |-- Target_Variable_Convert: boolean (nullable = true)\n",
            "\n"
          ]
        }
      ]
    },
    {
      "cell_type": "code",
      "source": [
        "agri_df.printSchema()"
      ],
      "metadata": {
        "colab": {
          "base_uri": "https://localhost:8080/"
        },
        "id": "OlvFkKB0EyMW",
        "outputId": "bf68c13d-80de-4290-d97b-24cb88d9918c"
      },
      "execution_count": null,
      "outputs": [
        {
          "output_type": "stream",
          "name": "stdout",
          "text": [
            "root\n",
            " |-- Country: string (nullable = true)\n",
            " |-- ItemCode: integer (nullable = true)\n",
            " |-- Item: string (nullable = true)\n",
            " |-- ItemType: string (nullable = true)\n",
            " |-- 1965: double (nullable = true)\n",
            " |-- 1966: double (nullable = true)\n",
            " |-- 1967: double (nullable = true)\n",
            " |-- 1968: double (nullable = true)\n",
            " |-- 1969: double (nullable = true)\n",
            " |-- 1970: double (nullable = true)\n",
            " |-- 1971: double (nullable = true)\n",
            " |-- 1972: double (nullable = true)\n",
            " |-- 1973: double (nullable = true)\n",
            " |-- 1974: double (nullable = true)\n",
            " |-- 1975: double (nullable = true)\n",
            " |-- 1976: double (nullable = true)\n",
            " |-- 1977: double (nullable = true)\n",
            " |-- 1978: double (nullable = true)\n",
            " |-- 1979: double (nullable = true)\n",
            " |-- 1980: double (nullable = true)\n",
            " |-- 1981: double (nullable = true)\n",
            " |-- 1982: double (nullable = true)\n",
            " |-- 1983: double (nullable = true)\n",
            " |-- 1984: double (nullable = true)\n",
            " |-- 1985: double (nullable = true)\n",
            " |-- 1986: double (nullable = true)\n",
            " |-- 1987: double (nullable = true)\n",
            " |-- 1988: double (nullable = true)\n",
            " |-- 1989: double (nullable = true)\n",
            " |-- 1990: double (nullable = true)\n",
            " |-- 1991: double (nullable = true)\n",
            " |-- 1992: double (nullable = true)\n",
            " |-- 1993: double (nullable = true)\n",
            " |-- 1994: double (nullable = true)\n",
            " |-- 1995: double (nullable = true)\n",
            " |-- 1996: double (nullable = true)\n",
            " |-- 1997: double (nullable = true)\n",
            " |-- 1998: double (nullable = true)\n",
            " |-- 1999: double (nullable = true)\n",
            " |-- 2000: double (nullable = true)\n",
            " |-- 2001: double (nullable = true)\n",
            " |-- 2002: double (nullable = true)\n",
            " |-- 2003: double (nullable = true)\n",
            " |-- 2004: double (nullable = true)\n",
            " |-- 2005: double (nullable = true)\n",
            " |-- 2006: double (nullable = true)\n",
            " |-- 2007: double (nullable = true)\n",
            " |-- 2008: double (nullable = true)\n",
            " |-- 2009: double (nullable = true)\n",
            " |-- 2010: double (nullable = true)\n",
            " |-- 2011: double (nullable = true)\n",
            " |-- 2012: double (nullable = true)\n",
            " |-- 2013: double (nullable = true)\n",
            " |-- 2014: double (nullable = true)\n",
            " |-- 2015: double (nullable = true)\n",
            " |-- 2016: integer (nullable = true)\n",
            " |-- 2017: integer (nullable = true)\n",
            "\n"
          ]
        }
      ]
    },
    {
      "cell_type": "code",
      "source": [
        "prop_df.columns"
      ],
      "metadata": {
        "colab": {
          "base_uri": "https://localhost:8080/"
        },
        "id": "xv8msADlFlqR",
        "outputId": "5a531d57-2aa3-4e6e-f6c9-f3b0a453d6f6"
      },
      "execution_count": null,
      "outputs": [
        {
          "output_type": "execute_result",
          "data": {
            "text/plain": [
              "['VisitorID',\n",
              " 'Proj_Group',\n",
              " 'Proj_Segment',\n",
              " 'Proj_Type',\n",
              " 'Visitor_Group',\n",
              " 'Visitor_Gender',\n",
              " 'Question_Age',\n",
              " 'Question_Budget',\n",
              " 'Question_HHIncome',\n",
              " 'Question_InstallmentMonthly',\n",
              " 'Question_MarriageStatus',\n",
              " 'Question_Nationality',\n",
              " 'Question_Occupation',\n",
              " 'Question_P_Income',\n",
              " 'Question_TimeToMoveIn',\n",
              " 'Target_Variable_Convert']"
            ]
          },
          "metadata": {},
          "execution_count": 10
        }
      ]
    },
    {
      "cell_type": "code",
      "source": [
        "prop_df.dtypes"
      ],
      "metadata": {
        "colab": {
          "base_uri": "https://localhost:8080/"
        },
        "id": "6qGXnb8QHkn8",
        "outputId": "baac806d-fdda-4f3f-908c-3ad7136d8489"
      },
      "execution_count": null,
      "outputs": [
        {
          "output_type": "execute_result",
          "data": {
            "text/plain": [
              "[('VisitorID', 'int'),\n",
              " ('Proj_Group', 'string'),\n",
              " ('Proj_Segment', 'string'),\n",
              " ('Proj_Type', 'string'),\n",
              " ('Visitor_Group', 'string'),\n",
              " ('Visitor_Gender', 'string'),\n",
              " ('Question_Age', 'string'),\n",
              " ('Question_Budget', 'double'),\n",
              " ('Question_HHIncome', 'double'),\n",
              " ('Question_InstallmentMonthly', 'double'),\n",
              " ('Question_MarriageStatus', 'string'),\n",
              " ('Question_Nationality', 'string'),\n",
              " ('Question_Occupation', 'string'),\n",
              " ('Question_P_Income', 'double'),\n",
              " ('Question_TimeToMoveIn', 'string'),\n",
              " ('Target_Variable_Convert', 'boolean')]"
            ]
          },
          "metadata": {},
          "execution_count": 11
        }
      ]
    },
    {
      "cell_type": "code",
      "source": [
        "prop_df.select(['Question_Budget',\n",
        "                \"Question_HHIncome\",\n",
        "                \"Question_InstallmentMonthly\",\n",
        "                \"Question_P_Income\"]).describe().show()"
      ],
      "metadata": {
        "colab": {
          "base_uri": "https://localhost:8080/"
        },
        "id": "mU3qqrAfG1ne",
        "outputId": "fa4e8cd1-d994-41d5-a74b-17d5096b33d7"
      },
      "execution_count": null,
      "outputs": [
        {
          "output_type": "stream",
          "name": "stdout",
          "text": [
            "+-------+------------------+------------------+---------------------------+------------------+\n",
            "|summary|   Question_Budget| Question_HHIncome|Question_InstallmentMonthly| Question_P_Income|\n",
            "+-------+------------------+------------------+---------------------------+------------------+\n",
            "|  count|            120000|            120000|                     120000|            120000|\n",
            "|   mean| 7.399064734564415| 290739.1420503373|          54185.80925723917| 141604.7010900417|\n",
            "| stddev|3.6159924620618655|138854.06601809332|         20877.699268523076|46490.751621559706|\n",
            "|    min|               2.0|           40011.0|                    15022.0|           70000.0|\n",
            "|    max|              17.0|        640301.875|                   107673.0|          257500.0|\n",
            "+-------+------------------+------------------+---------------------------+------------------+\n",
            "\n"
          ]
        }
      ]
    },
    {
      "cell_type": "code",
      "source": [
        "temp_df = prop_df.select(['Question_Budget',\n",
        "                \"Question_HHIncome\",\n",
        "                \"Question_InstallmentMonthly\",\n",
        "                \"Question_P_Income\"])"
      ],
      "metadata": {
        "id": "LlUqrEPqIqRc"
      },
      "execution_count": null,
      "outputs": []
    },
    {
      "cell_type": "code",
      "source": [
        "new_temp_df = temp_df.withColumn(\"double_Income\", temp_df[\"Question_P_Income\"]*2)\n",
        "new_temp_df.show(10)"
      ],
      "metadata": {
        "colab": {
          "base_uri": "https://localhost:8080/"
        },
        "id": "isIYWrTVIwRB",
        "outputId": "e43c1301-1ef8-4e21-9a9d-c61961fd0405"
      },
      "execution_count": null,
      "outputs": [
        {
          "output_type": "stream",
          "name": "stdout",
          "text": [
            "+-----------------+------------------+---------------------------+------------------+------------------+\n",
            "|  Question_Budget| Question_HHIncome|Question_InstallmentMonthly| Question_P_Income|     double_Income|\n",
            "+-----------------+------------------+---------------------------+------------------+------------------+\n",
            "|             11.3|          610326.0|                   100133.0|          208750.0|          417500.0|\n",
            "|             13.5|          421363.0|                   103857.0|          225000.0|          450000.0|\n",
            "|             11.3|          413276.5|                    79472.0|          192500.0|          385000.0|\n",
            "|7.377227028973517|284728.25108687003|         52415.683805236346|132396.80457292788|264793.60914585576|\n",
            "|             17.0|          588512.0|                   107673.0|          135000.0|          270000.0|\n",
            "|             14.5|          308717.0|                    78257.0|          198750.0|          397500.0|\n",
            "|             16.0|          412127.0|                   100777.5|          241250.0|          482500.0|\n",
            "|             16.0|          596811.0|                   100777.5|          241250.0|          482500.0|\n",
            "|             14.5|        640301.875|                   107673.0|          208750.0|          417500.0|\n",
            "|             17.0|          251110.0|                    39644.0|          135000.0|          270000.0|\n",
            "+-----------------+------------------+---------------------------+------------------+------------------+\n",
            "only showing top 10 rows\n",
            "\n"
          ]
        }
      ]
    },
    {
      "cell_type": "code",
      "source": [
        "new_temp_df = new_temp_df.drop('double_Income')\n",
        "new_temp_df.show()"
      ],
      "metadata": {
        "id": "AJU5DHQVIyFk",
        "colab": {
          "base_uri": "https://localhost:8080/"
        },
        "outputId": "96ee49cf-ad0c-4c49-f49d-a6743160893d"
      },
      "execution_count": null,
      "outputs": [
        {
          "output_type": "stream",
          "name": "stdout",
          "text": [
            "+-----------------+------------------+---------------------------+------------------+\n",
            "|  Question_Budget| Question_HHIncome|Question_InstallmentMonthly| Question_P_Income|\n",
            "+-----------------+------------------+---------------------------+------------------+\n",
            "|             11.3|          610326.0|                   100133.0|          208750.0|\n",
            "|             13.5|          421363.0|                   103857.0|          225000.0|\n",
            "|             11.3|          413276.5|                    79472.0|          192500.0|\n",
            "|7.377227028973517|284728.25108687003|         52415.683805236346|132396.80457292788|\n",
            "|             17.0|          588512.0|                   107673.0|          135000.0|\n",
            "|             14.5|          308717.0|                    78257.0|          198750.0|\n",
            "|             16.0|          412127.0|                   100777.5|          241250.0|\n",
            "|             16.0|          596811.0|                   100777.5|          241250.0|\n",
            "|             14.5|        640301.875|                   107673.0|          208750.0|\n",
            "|             17.0|          251110.0|                    39644.0|          135000.0|\n",
            "|              8.0|          124085.0|                    69622.0|          120000.0|\n",
            "|             17.0|          334896.0|                   107673.0|          135000.0|\n",
            "|              7.5|          148151.5|                    49055.5|          152500.0|\n",
            "|              6.5|          249237.0|                    37882.0|          102500.0|\n",
            "|             13.5|          580214.0|                   103857.0|          188750.0|\n",
            "|              2.5|        640301.875|                    44455.0|          172500.0|\n",
            "|              3.5|          237418.0|                    40655.0|          140000.0|\n",
            "|              9.5|          577864.0|                    71421.0|          208750.0|\n",
            "|             10.5|          370659.0|                    48119.0|          185000.0|\n",
            "|              5.5|          175722.0|                    51979.0|          120000.0|\n",
            "+-----------------+------------------+---------------------------+------------------+\n",
            "only showing top 20 rows\n",
            "\n"
          ]
        }
      ]
    },
    {
      "cell_type": "code",
      "source": [
        "col_names= new_temp_df.columns\n",
        "new_col_names = [name.split(\"_\")[-1] for name in col_names]\n",
        "new_col_names"
      ],
      "metadata": {
        "colab": {
          "base_uri": "https://localhost:8080/"
        },
        "id": "TNMM5fvfD4Yx",
        "outputId": "54362513-3607-4937-9281-046850d1f1a9"
      },
      "execution_count": null,
      "outputs": [
        {
          "output_type": "execute_result",
          "data": {
            "text/plain": [
              "['Budget', 'HHIncome', 'InstallmentMonthly', 'Income']"
            ]
          },
          "metadata": {},
          "execution_count": 16
        }
      ]
    },
    {
      "cell_type": "code",
      "source": [
        "()"
      ],
      "metadata": {
        "id": "Usy1qGTp5J-I"
      },
      "execution_count": null,
      "outputs": []
    },
    {
      "cell_type": "code",
      "source": [
        "new_temp_df = new_temp_df.withColumnRenamed(\"Question_Budget\", \"Budget\")\n",
        "new_temp_df.show(10)"
      ],
      "metadata": {
        "colab": {
          "base_uri": "https://localhost:8080/"
        },
        "id": "6Byvtz1EQdPo",
        "outputId": "33debb4b-f783-4d27-fdf4-f7208ca6cd30"
      },
      "execution_count": null,
      "outputs": [
        {
          "output_type": "stream",
          "name": "stdout",
          "text": [
            "+-----------------+------------------+---------------------------+------------------+\n",
            "|           Budget| Question_HHIncome|Question_InstallmentMonthly| Question_P_Income|\n",
            "+-----------------+------------------+---------------------------+------------------+\n",
            "|             11.3|          610326.0|                   100133.0|          208750.0|\n",
            "|             13.5|          421363.0|                   103857.0|          225000.0|\n",
            "|             11.3|          413276.5|                    79472.0|          192500.0|\n",
            "|7.377227028973517|284728.25108687003|         52415.683805236346|132396.80457292788|\n",
            "|             17.0|          588512.0|                   107673.0|          135000.0|\n",
            "|             14.5|          308717.0|                    78257.0|          198750.0|\n",
            "|             16.0|          412127.0|                   100777.5|          241250.0|\n",
            "|             16.0|          596811.0|                   100777.5|          241250.0|\n",
            "|             14.5|        640301.875|                   107673.0|          208750.0|\n",
            "|             17.0|          251110.0|                    39644.0|          135000.0|\n",
            "+-----------------+------------------+---------------------------+------------------+\n",
            "only showing top 10 rows\n",
            "\n"
          ]
        }
      ]
    },
    {
      "cell_type": "code",
      "source": [
        "new_temp_df = new_temp_df.toDF('Budget', 'HHIncome', 'InstallmentMonthly', 'Income')\n",
        "new_temp_df.show(10)"
      ],
      "metadata": {
        "colab": {
          "base_uri": "https://localhost:8080/"
        },
        "id": "PrBu1cUQFIVz",
        "outputId": "acd06312-04e2-4d7f-af21-ce2c7272be5b"
      },
      "execution_count": null,
      "outputs": [
        {
          "output_type": "stream",
          "name": "stdout",
          "text": [
            "+-----------------+------------------+------------------+------------------+\n",
            "|           Budget|          HHIncome|InstallmentMonthly|            Income|\n",
            "+-----------------+------------------+------------------+------------------+\n",
            "|             11.3|          610326.0|          100133.0|          208750.0|\n",
            "|             13.5|          421363.0|          103857.0|          225000.0|\n",
            "|             11.3|          413276.5|           79472.0|          192500.0|\n",
            "|7.377227028973517|284728.25108687003|52415.683805236346|132396.80457292788|\n",
            "|             17.0|          588512.0|          107673.0|          135000.0|\n",
            "|             14.5|          308717.0|           78257.0|          198750.0|\n",
            "|             16.0|          412127.0|          100777.5|          241250.0|\n",
            "|             16.0|          596811.0|          100777.5|          241250.0|\n",
            "|             14.5|        640301.875|          107673.0|          208750.0|\n",
            "|             17.0|          251110.0|           39644.0|          135000.0|\n",
            "+-----------------+------------------+------------------+------------------+\n",
            "only showing top 10 rows\n",
            "\n"
          ]
        }
      ]
    },
    {
      "cell_type": "code",
      "source": [
        "prop_df.show(10)"
      ],
      "metadata": {
        "colab": {
          "base_uri": "https://localhost:8080/"
        },
        "id": "wN8bA0YZDjZ1",
        "outputId": "0705a1ca-acd8-4c33-f637-6313862bfc1c"
      },
      "execution_count": null,
      "outputs": [
        {
          "output_type": "stream",
          "name": "stdout",
          "text": [
            "+---------+----------+------------+--------------+-------------+--------------+------------+-----------------+------------------+---------------------------+-----------------------+--------------------+--------------------+------------------+---------------------+-----------------------+\n",
            "|VisitorID|Proj_Group|Proj_Segment|     Proj_Type|Visitor_Group|Visitor_Gender|Question_Age|  Question_Budget| Question_HHIncome|Question_InstallmentMonthly|Question_MarriageStatus|Question_Nationality| Question_Occupation| Question_P_Income|Question_TimeToMoveIn|Target_Variable_Convert|\n",
            "+---------+----------+------------+--------------+-------------+--------------+------------+-----------------+------------------+---------------------------+-----------------------+--------------------+--------------------+------------------+---------------------+-----------------------+\n",
            "|        1|     Outer|           B|Standard Units|      Central|             F|        51 +|             11.3|          610326.0|                   100133.0|                 Single|          Not Answer|      Business Owner|          208750.0|           Not Answer|                  false|\n",
            "|        2|     Outer|           A|Standard Units|        Outer|             M|     46 - 50|             13.5|          421363.0|                   103857.0|   Married with Chil...|          Not Answer|Other(Please spec...|          225000.0|           Not Answer|                  false|\n",
            "|        3|   Central|           B| Premium Units|      Central|             F|        51 +|             11.3|          413276.5|                    79472.0|             Not Answer|               India|          Not Answer|          192500.0|           Not Answer|                  false|\n",
            "|        4|     Urban|           A|Standard Units|      Central|             M|        51 +|7.377227028973517|284728.25108687003|         52415.683805236346|   Married with Chil...|          Not Answer|      Business Owner|132396.80457292788|           Not Answer|                  false|\n",
            "|        5|     Outer|           A|Standard Units|      Central|             M|        51 +|             17.0|          588512.0|                   107673.0|   Married with Chil...|          Not Answer|      Business Owner|          135000.0|           Not Answer|                  false|\n",
            "|        6|     Outer|           B|Standard Units|      Central|             M|     41 - 45|             14.5|          308717.0|                    78257.0|   Married with Chil...|          Not Answer|      Business Owner|          198750.0|           Not Answer|                  false|\n",
            "|        7|     Outer|           A|Standard Units|        Outer|             M|     41 - 45|             16.0|          412127.0|                   100777.5|   Married with Chil...|          Not Answer|      Business Owner|          241250.0|           Not Answer|                  false|\n",
            "|        8|     Urban|           A|Standard Units|        Outer|             F|        51 +|             16.0|          596811.0|                   100777.5|                 Single|          Not Answer|      Business Owner|          241250.0|           Not Answer|                  false|\n",
            "|        9|     Outer|           B|Standard Units|        Outer|             M|     46 - 50|             14.5|        640301.875|                   107673.0|                Married|          Not Answer|      Business Owner|          208750.0|           Not Answer|                  false|\n",
            "|       10|     Outer|           B|Standard Units|        Outer|             M|        51 +|             17.0|          251110.0|                    39644.0|   Married with Chil...|               India|      Business Owner|          135000.0|           Not Answer|                  false|\n",
            "+---------+----------+------------+--------------+-------------+--------------+------------+-----------------+------------------+---------------------------+-----------------------+--------------------+--------------------+------------------+---------------------+-----------------------+\n",
            "only showing top 10 rows\n",
            "\n"
          ]
        }
      ]
    },
    {
      "cell_type": "code",
      "source": [
        "prop_df.filter(\"Proj_Group == 'Outer'\").filter(\"Visitor_Group == 'Central'\").filter(\"Visitor_Gender == 'F'\").show(10)"
      ],
      "metadata": {
        "colab": {
          "base_uri": "https://localhost:8080/"
        },
        "id": "ufwRnuhTrylJ",
        "outputId": "b6a86379-1c2c-4e12-fa0c-df8779c4f2fb"
      },
      "execution_count": null,
      "outputs": [
        {
          "output_type": "stream",
          "name": "stdout",
          "text": [
            "+---------+----------+------------+--------------+-------------+--------------+------------+-----------------+------------------+---------------------------+-----------------------+--------------------+--------------------+------------------+---------------------+-----------------------+\n",
            "|VisitorID|Proj_Group|Proj_Segment|     Proj_Type|Visitor_Group|Visitor_Gender|Question_Age|  Question_Budget| Question_HHIncome|Question_InstallmentMonthly|Question_MarriageStatus|Question_Nationality| Question_Occupation| Question_P_Income|Question_TimeToMoveIn|Target_Variable_Convert|\n",
            "+---------+----------+------------+--------------+-------------+--------------+------------+-----------------+------------------+---------------------------+-----------------------+--------------------+--------------------+------------------+---------------------+-----------------------+\n",
            "|        1|     Outer|           B|Standard Units|      Central|             F|        51 +|             11.3|          610326.0|                   100133.0|                 Single|          Not Answer|      Business Owner|          208750.0|           Not Answer|                  false|\n",
            "|       33|     Outer|           B|Standard Units|      Central|             F|        51 +|             17.0|          597484.0|                    73440.0|   Married with Chil...|          Not Answer|      Business Owner|          135000.0|           Not Answer|                  false|\n",
            "|       37|     Outer|           B|Standard Units|      Central|             F|     46 - 50|              7.0|          179695.0|                    44875.0|                Married|          Not Answer|Other(Please spec...|          120000.0|           Not Answer|                  false|\n",
            "|       77|     Outer|           B|Standard Units|      Central|             F|        51 +|             14.5|          265968.0|                    91912.0|                Married|          Not Answer|      Business Owner|          198750.0|           Not Answer|                  false|\n",
            "|       90|     Outer|           D|Standard Units|      Central|             F|     41 - 45|              4.5|          268500.0|                    42359.0|                 Single|               India|      Business Owner|          102500.0|           Not Answer|                  false|\n",
            "|       91|     Outer|           B|Standard Units|      Central|             F|     41 - 45|              6.5|          421359.0|                    39946.0|                 Single|               India|      Business Owner|          102500.0|           Not Answer|                  false|\n",
            "|       92|     Outer|           B|Standard Units|      Central|             F|     36 - 40|              4.5|          175076.0|                    42359.0|                 Single|          Not Answer|      Business Owner|          120000.0|           Not Answer|                  false|\n",
            "|      126|     Outer|           C|Standard Units|      Central|             F|  Not Answer|7.377227028973517|284728.25108687003|         52415.683805236346|             Not Answer|          Not Answer|          Not Answer|132396.80457292788|           Not Answer|                  false|\n",
            "|      127|     Outer|           C|Standard Units|      Central|             F|  Not Answer|7.377227028973517|284728.25108687003|         52415.683805236346|             Not Answer|          Not Answer|          Not Answer|132396.80457292788|           Not Answer|                  false|\n",
            "|      146|     Outer|           B|Standard Units|      Central|             F|        51 +|             13.5|          538991.0|                   103857.0|   Married with Chil...|          Not Answer|      Business Owner|          185000.0|           Not Answer|                  false|\n",
            "+---------+----------+------------+--------------+-------------+--------------+------------+-----------------+------------------+---------------------------+-----------------------+--------------------+--------------------+------------------+---------------------+-----------------------+\n",
            "only showing top 10 rows\n",
            "\n"
          ]
        }
      ]
    },
    {
      "cell_type": "code",
      "source": [
        "prop_df.filter(prop_df[\"Proj_Group\"]== 'Outer').show()"
      ],
      "metadata": {
        "id": "hE_Silp94YcW",
        "colab": {
          "base_uri": "https://localhost:8080/"
        },
        "outputId": "94d4f2a4-6891-4ee9-b8eb-5c0a20e82f15"
      },
      "execution_count": null,
      "outputs": [
        {
          "output_type": "stream",
          "name": "stdout",
          "text": [
            "+---------+----------+------------+--------------+-------------+--------------+------------+---------------+-----------------+---------------------------+-----------------------+--------------------+--------------------+-----------------+---------------------+-----------------------+\n",
            "|VisitorID|Proj_Group|Proj_Segment|     Proj_Type|Visitor_Group|Visitor_Gender|Question_Age|Question_Budget|Question_HHIncome|Question_InstallmentMonthly|Question_MarriageStatus|Question_Nationality| Question_Occupation|Question_P_Income|Question_TimeToMoveIn|Target_Variable_Convert|\n",
            "+---------+----------+------------+--------------+-------------+--------------+------------+---------------+-----------------+---------------------------+-----------------------+--------------------+--------------------+-----------------+---------------------+-----------------------+\n",
            "|        1|     Outer|           B|Standard Units|      Central|             F|        51 +|           11.3|         610326.0|                   100133.0|                 Single|          Not Answer|      Business Owner|         208750.0|           Not Answer|                  false|\n",
            "|        2|     Outer|           A|Standard Units|        Outer|             M|     46 - 50|           13.5|         421363.0|                   103857.0|   Married with Chil...|          Not Answer|Other(Please spec...|         225000.0|           Not Answer|                  false|\n",
            "|        5|     Outer|           A|Standard Units|      Central|             M|        51 +|           17.0|         588512.0|                   107673.0|   Married with Chil...|          Not Answer|      Business Owner|         135000.0|           Not Answer|                  false|\n",
            "|        6|     Outer|           B|Standard Units|      Central|             M|     41 - 45|           14.5|         308717.0|                    78257.0|   Married with Chil...|          Not Answer|      Business Owner|         198750.0|           Not Answer|                  false|\n",
            "|        7|     Outer|           A|Standard Units|        Outer|             M|     41 - 45|           16.0|         412127.0|                   100777.5|   Married with Chil...|          Not Answer|      Business Owner|         241250.0|           Not Answer|                  false|\n",
            "|        9|     Outer|           B|Standard Units|        Outer|             M|     46 - 50|           14.5|       640301.875|                   107673.0|                Married|          Not Answer|      Business Owner|         208750.0|           Not Answer|                  false|\n",
            "|       10|     Outer|           B|Standard Units|        Outer|             M|        51 +|           17.0|         251110.0|                    39644.0|   Married with Chil...|               India|      Business Owner|         135000.0|           Not Answer|                  false|\n",
            "|       11|     Outer|           B|Standard Units|        Outer|             M|        51 +|            8.0|         124085.0|                    69622.0|   Married with Chil...|          Not Answer|   Business Employee|         120000.0|           Not Answer|                  false|\n",
            "|       12|     Outer|           A|Standard Units|      Central|             M|     46 - 50|           17.0|         334896.0|                   107673.0|   Married with Chil...|          Not Answer|      Business Owner|         135000.0|           Not Answer|                  false|\n",
            "|       15|     Outer|           B|Standard Units|        Major|             M|        51 +|           13.5|         580214.0|                   103857.0|                 Single|          Not Answer|   Business Employee|         188750.0|           Not Answer|                  false|\n",
            "|       18|     Outer|           B|Standard Units|        Outer|             M|     46 - 50|            9.5|         577864.0|                    71421.0|   Married with Chil...|          Not Answer|      Business Owner|         208750.0|           Not Answer|                  false|\n",
            "|       19|     Outer|           B|Standard Units|        Outer|             M|     41 - 45|           10.5|         370659.0|                    48119.0|   Married with Chil...|          Not Answer|   Business Employee|         185000.0|           Not Answer|                  false|\n",
            "|       20|     Outer|           C|Standard Units|        Outer|             M|     41 - 45|            5.5|         175722.0|                    51979.0|                 Single|          Not Answer|   Business Employee|         120000.0|           Not Answer|                  false|\n",
            "|       21|     Outer|           B|Standard Units|        Outer|             M|     46 - 50|           17.0|         627612.0|                   100777.5|   Married with Chil...|          Not Answer|      Business Owner|         135000.0|           Not Answer|                  false|\n",
            "|       22|     Outer|           A|Standard Units|        Outer|             M|     46 - 50|           13.5|         427199.0|                   103857.0|                 Single|          Not Answer|       Civil Servant|         225000.0|           Not Answer|                  false|\n",
            "|       23|     Outer|           B|Standard Units|        Outer|             M|        51 +|           10.3|         259854.0|                    77408.5|   Married with Chil...|          Not Answer|       Civil Servant|         221250.0|           Not Answer|                  false|\n",
            "|       24|     Outer|           B|Standard Units|        Outer|             M|        51 +|           11.3|         216227.0|                    52230.0|                Married|               India|       Civil Servant|         208750.0|           Not Answer|                  false|\n",
            "|       25|     Outer|           B|Standard Units|        Outer|             M|     41 - 45|           13.5|         371260.0|                    78207.0|                 Single|               India|   Business Employee|         188750.0|           Not Answer|                  false|\n",
            "|       27|     Outer|           A|Standard Units|        Outer|             M|     41 - 45|           17.0|         524077.0|                   107673.0|   Married with Chil...|          Not Answer|   Business Employee|         135000.0|           Not Answer|                  false|\n",
            "|       29|     Outer|           B| Premium Units|      Central|             M|  Not Answer|            5.0|         352792.5|                    38628.5|             Not Answer|          Not Answer|          Not Answer|         140000.0|           Not Answer|                  false|\n",
            "+---------+----------+------------+--------------+-------------+--------------+------------+---------------+-----------------+---------------------------+-----------------------+--------------------+--------------------+-----------------+---------------------+-----------------------+\n",
            "only showing top 20 rows\n",
            "\n"
          ]
        }
      ]
    },
    {
      "cell_type": "code",
      "source": [
        "prop_df.select([\"Proj_Group\", \"Proj_Segment\", \"Proj_Type\", \"Visitor_Group\", \"Visitor_Gender\", \"Question_Budget\", \"Question_HHIncome\"])\\\n",
        "        .withColumnRenamed(\"Question_Budget\", \"Budget\")\\\n",
        "        .withColumnRenamed(\"Question_HHIncome\", \"Income\")\\\n",
        "        .groupBy([\"Proj_Group\", \"Proj_Segment\"]).sum().show()"
      ],
      "metadata": {
        "id": "8rKtjE2m4YXY",
        "colab": {
          "base_uri": "https://localhost:8080/"
        },
        "outputId": "9f3cb5c3-48cb-4f9a-8409-77487de8c36d"
      },
      "execution_count": null,
      "outputs": [
        {
          "output_type": "stream",
          "name": "stdout",
          "text": [
            "+----------+------------+------------------+--------------------+\n",
            "|Proj_Group|Proj_Segment|       sum(Budget)|         sum(Income)|\n",
            "+----------+------------+------------------+--------------------+\n",
            "|   Central|           E| 2527.008405434603| 8.629961089130305E7|\n",
            "|     Urban|           D| 44429.44836397448|1.7835447503868701E9|\n",
            "|     Urban|           C| 37785.15424991981| 1.537841995647223E9|\n",
            "|     Major|           B|  51137.7295027206| 2.216624874840502E9|\n",
            "|     Other|           B|26314.354256002567| 1.011165302087955E9|\n",
            "|   Central|           B|  5963.38606507121| 3.083213632402079E8|\n",
            "|     Other|           C| 3914.776081519054| 1.935992994320454E8|\n",
            "|     Urban|           A|30565.376437970204| 9.673890656989069E8|\n",
            "|     Urban|           B| 95976.63241223726| 3.841384074109164E9|\n",
            "|     Outer|           C| 109281.8666188958| 4.637986710809107E9|\n",
            "|     Outer|           D|31366.709136585403|1.4250915340597174E9|\n",
            "|     Major|           D| 31755.59026924872| 1.773883885760118E9|\n",
            "|     Outer|           A| 65581.62399463743|1.9643785487114115E9|\n",
            "|     Major|           C|45016.395168080024| 2.213885912179087E9|\n",
            "|     Outer|           B| 295004.2676882506|1.035331431948479E10|\n",
            "|     Other|           D| 6046.199497318709|3.9570563738695556E8|\n",
            "|     Outer|           E|           5221.25|    1.782801613125E8|\n",
            "+----------+------------+------------------+--------------------+\n",
            "\n"
          ]
        }
      ]
    },
    {
      "cell_type": "code",
      "source": [
        "prop_df.select(['Question_Budget', \"Question_HHIncome\"]).show()"
      ],
      "metadata": {
        "colab": {
          "base_uri": "https://localhost:8080/"
        },
        "id": "P8JH4uFOULj2",
        "outputId": "999fe650-2c4b-4791-db61-9e2a11a73463"
      },
      "execution_count": null,
      "outputs": [
        {
          "output_type": "stream",
          "name": "stdout",
          "text": [
            "+-----------------+------------------+\n",
            "|  Question_Budget| Question_HHIncome|\n",
            "+-----------------+------------------+\n",
            "|             11.3|          610326.0|\n",
            "|             13.5|          421363.0|\n",
            "|             11.3|          413276.5|\n",
            "|7.377227028973517|284728.25108687003|\n",
            "|             17.0|          588512.0|\n",
            "|             14.5|          308717.0|\n",
            "|             16.0|          412127.0|\n",
            "|             16.0|          596811.0|\n",
            "|             14.5|        640301.875|\n",
            "|             17.0|          251110.0|\n",
            "|              8.0|          124085.0|\n",
            "|             17.0|          334896.0|\n",
            "|              7.5|          148151.5|\n",
            "|              6.5|          249237.0|\n",
            "|             13.5|          580214.0|\n",
            "|              2.5|        640301.875|\n",
            "|              3.5|          237418.0|\n",
            "|              9.5|          577864.0|\n",
            "|             10.5|          370659.0|\n",
            "|              5.5|          175722.0|\n",
            "+-----------------+------------------+\n",
            "only showing top 20 rows\n",
            "\n"
          ]
        }
      ]
    },
    {
      "cell_type": "code",
      "source": [
        "prop_df.select('Proj_Type', \"Visitor_Gender\").show()"
      ],
      "metadata": {
        "id": "CobbSi928cqj",
        "colab": {
          "base_uri": "https://localhost:8080/"
        },
        "outputId": "ca5ab03a-b878-48bf-d033-dca793b0dbc7"
      },
      "execution_count": null,
      "outputs": [
        {
          "output_type": "stream",
          "name": "stdout",
          "text": [
            "+--------------+--------------+\n",
            "|     Proj_Type|Visitor_Gender|\n",
            "+--------------+--------------+\n",
            "|Standard Units|             F|\n",
            "|Standard Units|             M|\n",
            "| Premium Units|             F|\n",
            "|Standard Units|             M|\n",
            "|Standard Units|             M|\n",
            "|Standard Units|             M|\n",
            "|Standard Units|             M|\n",
            "|Standard Units|             F|\n",
            "|Standard Units|             M|\n",
            "|Standard Units|             M|\n",
            "|Standard Units|             M|\n",
            "|Standard Units|             M|\n",
            "| Premium Units|             M|\n",
            "| Premium Units|             M|\n",
            "|Standard Units|             M|\n",
            "| Premium Units|             M|\n",
            "| Premium Units|             M|\n",
            "|Standard Units|             M|\n",
            "|Standard Units|             M|\n",
            "|Standard Units|             M|\n",
            "+--------------+--------------+\n",
            "only showing top 20 rows\n",
            "\n"
          ]
        }
      ]
    },
    {
      "cell_type": "code",
      "source": [
        "[row.__getitem__(\"Proj_Type\") for row in prop_df.select('Proj_Type').distinct().collect()]"
      ],
      "metadata": {
        "colab": {
          "base_uri": "https://localhost:8080/"
        },
        "id": "xawNqEhi5tnq",
        "outputId": "84b1eebd-0c97-4874-c3a6-8fe43081ba5f"
      },
      "execution_count": null,
      "outputs": [
        {
          "output_type": "execute_result",
          "data": {
            "text/plain": [
              "['Premium Units', 'Standard Units']"
            ]
          },
          "metadata": {},
          "execution_count": 43
        }
      ]
    },
    {
      "cell_type": "code",
      "source": [
        "[row.__getitem__(\"Visitor_Gender\") for row in prop_df.select('Visitor_Gender').distinct().collect()]"
      ],
      "metadata": {
        "colab": {
          "base_uri": "https://localhost:8080/"
        },
        "id": "ZXRR0M1A7PFU",
        "outputId": "8c1988d5-988f-44c0-de93-7da968cf97c3"
      },
      "execution_count": null,
      "outputs": [
        {
          "output_type": "execute_result",
          "data": {
            "text/plain": [
              "['F', 'M', 'Not Answer']"
            ]
          },
          "metadata": {},
          "execution_count": 44
        }
      ]
    },
    {
      "cell_type": "code",
      "source": [
        "[row.__getitem__(\"Proj_Group\") for row in prop_df.select('Proj_Group').distinct().collect()]"
      ],
      "metadata": {
        "colab": {
          "base_uri": "https://localhost:8080/"
        },
        "id": "5kKUqv6o7PCU",
        "outputId": "e08646d2-ee98-4846-c7eb-0bba4498e77a"
      },
      "execution_count": null,
      "outputs": [
        {
          "output_type": "execute_result",
          "data": {
            "text/plain": [
              "['Urban', 'Other', 'Central', 'Outer', 'Major']"
            ]
          },
          "metadata": {},
          "execution_count": 45
        }
      ]
    },
    {
      "cell_type": "code",
      "source": [
        "ord_encoder = StringIndexer(inputCol=\"Proj_Group\", outputCol=\"Proj_Group_encoded\")\n",
        "model = ord_encoder.fit(prop_df.select(\"Proj_Group\"))\n",
        "output_1 = model.transform(prop_df.select(\"Proj_Group\"))\n",
        "onehot_encoder = OneHotEncoder(inputCol=\"Proj_Group_encoded\", outputCol=\"Proj_Group_onehot\", dropLast=False).fit(output_1)\n",
        "output_2 = onehot_encoder.transform(output_1)\n",
        "output_2.show()"
      ],
      "metadata": {
        "colab": {
          "base_uri": "https://localhost:8080/"
        },
        "id": "WXFMGrtT5Zq6",
        "outputId": "63013bf2-d17a-429b-f34f-ef4c32d83ba6"
      },
      "execution_count": null,
      "outputs": [
        {
          "output_type": "stream",
          "name": "stdout",
          "text": [
            "+----------+------------------+-----------------+\n",
            "|Proj_Group|Proj_Group_encoded|Proj_Group_onehot|\n",
            "+----------+------------------+-----------------+\n",
            "|     Outer|               0.0|    (5,[0],[1.0])|\n",
            "|     Outer|               0.0|    (5,[0],[1.0])|\n",
            "|   Central|               4.0|    (5,[4],[1.0])|\n",
            "|     Urban|               1.0|    (5,[1],[1.0])|\n",
            "|     Outer|               0.0|    (5,[0],[1.0])|\n",
            "|     Outer|               0.0|    (5,[0],[1.0])|\n",
            "|     Outer|               0.0|    (5,[0],[1.0])|\n",
            "|     Urban|               1.0|    (5,[1],[1.0])|\n",
            "|     Outer|               0.0|    (5,[0],[1.0])|\n",
            "|     Outer|               0.0|    (5,[0],[1.0])|\n",
            "|     Outer|               0.0|    (5,[0],[1.0])|\n",
            "|     Outer|               0.0|    (5,[0],[1.0])|\n",
            "|     Other|               3.0|    (5,[3],[1.0])|\n",
            "|     Major|               2.0|    (5,[2],[1.0])|\n",
            "|     Outer|               0.0|    (5,[0],[1.0])|\n",
            "|     Major|               2.0|    (5,[2],[1.0])|\n",
            "|     Major|               2.0|    (5,[2],[1.0])|\n",
            "|     Outer|               0.0|    (5,[0],[1.0])|\n",
            "|     Outer|               0.0|    (5,[0],[1.0])|\n",
            "|     Outer|               0.0|    (5,[0],[1.0])|\n",
            "+----------+------------------+-----------------+\n",
            "only showing top 20 rows\n",
            "\n"
          ]
        }
      ]
    }
  ]
}