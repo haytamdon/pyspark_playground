{
 "cells": [
  {
   "cell_type": "code",
   "execution_count": 67,
   "metadata": {},
   "outputs": [],
   "source": [
    "import sqlite3\n",
    "import pandas as pd\n",
    "import numpy as np\n",
    "import json\n",
    "from datetime import datetime"
   ]
  },
  {
   "cell_type": "code",
   "execution_count": 68,
   "metadata": {},
   "outputs": [],
   "source": [
    "def read_sqlite_data():\n",
    "    \"\"\"\n",
    "    Read the data using sqlite3 library in python\n",
    "    \"\"\"\n",
    "    sqlite_data = sqlite3.connect(\"travel.sqlite\")\n",
    "    return sqlite_data"
   ]
  },
  {
   "cell_type": "code",
   "execution_count": 69,
   "metadata": {},
   "outputs": [],
   "source": [
    "def get_table_list(sqlite_data):\n",
    "    \"\"\"\n",
    "    Queries the names of all the tables in the sql database\n",
    "\n",
    "    Returns:\n",
    "        list: list of all the tables names\n",
    "    \"\"\"\n",
    "    sql_query = \"SELECT name FROM sqlite_master WHERE type='table';\"\n",
    "    cur = sqlite_data.cursor()\n",
    "    cur.execute(sql_query)\n",
    "    table_list = cur.fetchall()\n",
    "    cleaned_table_list = [table_list[i][0] for i in range(len(table_list))]\n",
    "    return cleaned_table_list"
   ]
  },
  {
   "cell_type": "code",
   "execution_count": 70,
   "metadata": {},
   "outputs": [],
   "source": [
    "def create_dataframes_dict(sqlite_data, cleaned_table_list):\n",
    "    \"\"\"\n",
    "    transforms all the tables of the database into pandas dataframes\n",
    "\n",
    "    Args:\n",
    "        sqlite_data (_type_): _description_\n",
    "        cleaned_table_list (_type_): _description_\n",
    "\n",
    "    Returns:\n",
    "        _type_: _description_\n",
    "    \"\"\"\n",
    "    # Transforms the result of the sql query into a data frame\n",
    "    dfs_dict = {cleaned_table_list[i]: pd.read_sql_query(\"SELECT * FROM \"+cleaned_table_list[i], \n",
    "                                    sqlite_data) for i in range(len(cleaned_table_list))}\n",
    "    return dfs_dict"
   ]
  },
  {
   "cell_type": "code",
   "execution_count": 71,
   "metadata": {},
   "outputs": [],
   "source": [
    "def merge_dfs(dfs_dict):\n",
    "    \"\"\"\n",
    "    returns a complete dataframe merging all the dataframes/tables based on their primary \n",
    "    and secondary keys\n",
    "\n",
    "    Args:\n",
    "        dfs_dict (dict): dictionary containing all the dataframes\n",
    "\n",
    "    Returns:\n",
    "        pandas df: df containing the merged data frame\n",
    "    \"\"\"\n",
    "    all_tickets_data = dfs_dict['ticket_flights'].merge(dfs_dict['flights'], on = \"flight_id\").merge(\n",
    "        dfs_dict[\"aircrafts_data\"], on = \"aircraft_code\").merge(\n",
    "        dfs_dict[\"airports_data\"], left_on = \"departure_airport\", right_on = \"airport_code\", \n",
    "        suffixes=(\"\", \"_departure\")).merge(dfs_dict[\"airports_data\"], left_on = \"arrival_airport\", right_on = \"airport_code\", \n",
    "        suffixes=(\"\", \"_arrival\")).merge(dfs_dict[\"tickets\"], on = \"ticket_no\").merge(\n",
    "        dfs_dict[\"bookings\"], on= \"book_ref\"\n",
    "        )\n",
    "    return all_tickets_data"
   ]
  },
  {
   "cell_type": "code",
   "execution_count": 72,
   "metadata": {},
   "outputs": [],
   "source": [
    "def remove_keys(all_tickets_data):\n",
    "    \"\"\"\n",
    "    Remove the relational primary and secondary keys for SQL querying\n",
    "    \"\"\"\n",
    "    cleaned_tickets_data = all_tickets_data.drop(\n",
    "        [\"flight_id\", \"aircraft_code\", \"airport_code\", \"airport_code_arrival\",\n",
    "        \"ticket_no\", \"book_ref\", \"flight_no\", \"passenger_id\"], axis = 1)\n",
    "    return cleaned_tickets_data"
   ]
  },
  {
   "cell_type": "code",
   "execution_count": 73,
   "metadata": {},
   "outputs": [],
   "source": [
    "def remove_irrelevent_columns(cleaned_tickets_data):\n",
    "    \"\"\"\n",
    "    Dropping obviously irrelevent columns to the price of the ticket\n",
    "    \"\"\"\n",
    "    relevent_tickets_data = cleaned_tickets_data.drop([\"status\", \"timezone\", \"coordinates\",\n",
    "                                                        \"coordinates_arrival\", \"timezone_arrival\",\n",
    "                                                        \"actual_arrival\", \"actual_departure\",\n",
    "                                                        \"total_amount\"], axis = 1)\n",
    "    return relevent_tickets_data"
   ]
  },
  {
   "cell_type": "code",
   "execution_count": 74,
   "metadata": {},
   "outputs": [],
   "source": [
    "def rename_columns(relevent_tickets_data):\n",
    "    \"\"\"\n",
    "    renaming columns for clarification\n",
    "    \"\"\"\n",
    "    relevent_tickets_data = relevent_tickets_data.rename({\"airport_name\": \"airport_name_departure\", \n",
    "                                                            \"city\": \"city_departure\"}, axis = 1)\n",
    "    return relevent_tickets_data"
   ]
  },
  {
   "cell_type": "code",
   "execution_count": 75,
   "metadata": {},
   "outputs": [],
   "source": [
    "sqlite_data = read_sqlite_data()\n",
    "cleaned_table_list = get_table_list(sqlite_data)\n",
    "dfs_dict = create_dataframes_dict(sqlite_data, cleaned_table_list)\n",
    "all_tickets_data = merge_dfs(dfs_dict)\n",
    "cleaned_tickets_data = remove_keys(all_tickets_data)\n",
    "relevent_tickets_data = remove_irrelevent_columns(cleaned_tickets_data)\n",
    "relevent_tickets_data = rename_columns(relevent_tickets_data)"
   ]
  },
  {
   "cell_type": "code",
   "execution_count": 76,
   "metadata": {},
   "outputs": [
    {
     "data": {
      "text/plain": [
       "Index(['fare_conditions', 'amount', 'scheduled_departure', 'scheduled_arrival',\n",
       "       'departure_airport', 'arrival_airport', 'model', 'range',\n",
       "       'airport_name_departure', 'city_departure', 'airport_name_arrival',\n",
       "       'city_arrival', 'book_date'],\n",
       "      dtype='object')"
      ]
     },
     "execution_count": 76,
     "metadata": {},
     "output_type": "execute_result"
    }
   ],
   "source": [
    "relevent_tickets_data.columns"
   ]
  },
  {
   "cell_type": "code",
   "execution_count": 77,
   "metadata": {},
   "outputs": [],
   "source": [
    "def convert_column_to_dict(data, column_names):\n",
    "    \"\"\"\n",
    "    Convert column from str to dict\n",
    "    \"\"\"\n",
    "    for column_name in column_names:\n",
    "        data[column_name] = data[column_name].map(lambda x: json.loads(x))\n",
    "    return data"
   ]
  },
  {
   "cell_type": "code",
   "execution_count": 78,
   "metadata": {},
   "outputs": [],
   "source": [
    "def english_formatting(data, column_names):\n",
    "    \"\"\"\n",
    "    pick only the english names\n",
    "    \"\"\"\n",
    "    for column_name in column_names:\n",
    "        data[column_name] = data[column_name].apply(lambda x: x['en'])\n",
    "    return data"
   ]
  },
  {
   "cell_type": "code",
   "execution_count": 79,
   "metadata": {},
   "outputs": [],
   "source": [
    "def date_formatting(data, column_names):\n",
    "    \"\"\"\n",
    "    Correctly format the date columns\n",
    "    \"\"\"\n",
    "    for column_name in column_names:\n",
    "        data[column_name] = data[column_name].apply(lambda x: datetime.strptime(x, '%Y-%m-%d %H:%M:%S%z'))\n",
    "    return data"
   ]
  },
  {
   "cell_type": "code",
   "execution_count": 80,
   "metadata": {},
   "outputs": [],
   "source": [
    "formatted_tickets_data = convert_column_to_dict(relevent_tickets_data, [\"model\", \n",
    "                        \"airport_name_departure\", \"city_departure\", \"airport_name_arrival\",\n",
    "                        \"city_arrival\"])"
   ]
  },
  {
   "cell_type": "code",
   "execution_count": null,
   "metadata": {},
   "outputs": [],
   "source": [
    "en_formatted_tickets_data = english_formatting(formatted_tickets_data, [\"model\", \n",
    "                        \"airport_name_departure\", \"city_departure\", \"airport_name_arrival\",\n",
    "                        \"city_arrival\"])"
   ]
  },
  {
   "cell_type": "code",
   "execution_count": 44,
   "metadata": {},
   "outputs": [],
   "source": [
    "date_formatted_tickets_data = date_formatting(en_formatted_tickets_data, [\"scheduled_departure\", \n",
    "                                            \"scheduled_arrival\", \"book_date\"])"
   ]
  },
  {
   "cell_type": "code",
   "execution_count": 66,
   "metadata": {},
   "outputs": [
    {
     "data": {
      "text/plain": [
       "'2017-07-16 18:15:00+03'"
      ]
     },
     "execution_count": 66,
     "metadata": {},
     "output_type": "execute_result"
    }
   ],
   "source": [
    "formatted_tickets_data[\"scheduled_departure\"][0]"
   ]
  },
  {
   "cell_type": "code",
   "execution_count": 46,
   "metadata": {},
   "outputs": [
    {
     "data": {
      "text/html": [
       "<div>\n",
       "<style scoped>\n",
       "    .dataframe tbody tr th:only-of-type {\n",
       "        vertical-align: middle;\n",
       "    }\n",
       "\n",
       "    .dataframe tbody tr th {\n",
       "        vertical-align: top;\n",
       "    }\n",
       "\n",
       "    .dataframe thead th {\n",
       "        text-align: right;\n",
       "    }\n",
       "</style>\n",
       "<table border=\"1\" class=\"dataframe\">\n",
       "  <thead>\n",
       "    <tr style=\"text-align: right;\">\n",
       "      <th></th>\n",
       "      <th>amount</th>\n",
       "      <th>total_amount</th>\n",
       "    </tr>\n",
       "  </thead>\n",
       "  <tbody>\n",
       "    <tr>\n",
       "      <th>0</th>\n",
       "      <td>42100</td>\n",
       "      <td>110300</td>\n",
       "    </tr>\n",
       "    <tr>\n",
       "      <th>1</th>\n",
       "      <td>13400</td>\n",
       "      <td>110300</td>\n",
       "    </tr>\n",
       "    <tr>\n",
       "      <th>2</th>\n",
       "      <td>14000</td>\n",
       "      <td>110300</td>\n",
       "    </tr>\n",
       "    <tr>\n",
       "      <th>3</th>\n",
       "      <td>13400</td>\n",
       "      <td>110300</td>\n",
       "    </tr>\n",
       "    <tr>\n",
       "      <th>4</th>\n",
       "      <td>14000</td>\n",
       "      <td>110300</td>\n",
       "    </tr>\n",
       "    <tr>\n",
       "      <th>...</th>\n",
       "      <td>...</td>\n",
       "      <td>...</td>\n",
       "    </tr>\n",
       "    <tr>\n",
       "      <th>1045721</th>\n",
       "      <td>22800</td>\n",
       "      <td>155700</td>\n",
       "    </tr>\n",
       "    <tr>\n",
       "      <th>1045722</th>\n",
       "      <td>132900</td>\n",
       "      <td>155700</td>\n",
       "    </tr>\n",
       "    <tr>\n",
       "      <th>1045723</th>\n",
       "      <td>22800</td>\n",
       "      <td>67100</td>\n",
       "    </tr>\n",
       "    <tr>\n",
       "      <th>1045724</th>\n",
       "      <td>44300</td>\n",
       "      <td>67100</td>\n",
       "    </tr>\n",
       "    <tr>\n",
       "      <th>1045725</th>\n",
       "      <td>4400</td>\n",
       "      <td>4400</td>\n",
       "    </tr>\n",
       "  </tbody>\n",
       "</table>\n",
       "<p>1045726 rows × 2 columns</p>\n",
       "</div>"
      ],
      "text/plain": [
       "         amount  total_amount\n",
       "0         42100        110300\n",
       "1         13400        110300\n",
       "2         14000        110300\n",
       "3         13400        110300\n",
       "4         14000        110300\n",
       "...         ...           ...\n",
       "1045721   22800        155700\n",
       "1045722  132900        155700\n",
       "1045723   22800         67100\n",
       "1045724   44300         67100\n",
       "1045725    4400          4400\n",
       "\n",
       "[1045726 rows x 2 columns]"
      ]
     },
     "execution_count": 46,
     "metadata": {},
     "output_type": "execute_result"
    }
   ],
   "source": [
    "def create_new_features(data):\n",
    "    data"
   ]
  }
 ],
 "metadata": {
  "kernelspec": {
   "display_name": "base",
   "language": "python",
   "name": "python3"
  },
  "language_info": {
   "codemirror_mode": {
    "name": "ipython",
    "version": 3
   },
   "file_extension": ".py",
   "mimetype": "text/x-python",
   "name": "python",
   "nbconvert_exporter": "python",
   "pygments_lexer": "ipython3",
   "version": "3.11.4"
  }
 },
 "nbformat": 4,
 "nbformat_minor": 2
}
